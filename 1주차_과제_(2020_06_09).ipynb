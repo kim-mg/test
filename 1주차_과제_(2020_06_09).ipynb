{
  "nbformat": 4,
  "nbformat_minor": 0,
  "metadata": {
    "colab": {
      "name": "1주차 과제 (2020.06.09).ipynb",
      "provenance": [],
      "collapsed_sections": [],
      "authorship_tag": "ABX9TyO351xo+fIqxYF6r7p/pUpW",
      "include_colab_link": true
    },
    "kernelspec": {
      "name": "python3",
      "display_name": "Python 3"
    }
  },
  "cells": [
    {
      "cell_type": "markdown",
      "metadata": {
        "id": "view-in-github",
        "colab_type": "text"
      },
      "source": [
        "<a href=\"https://colab.research.google.com/github/kim-mg/test/blob/master/1%EC%A3%BC%EC%B0%A8_%EA%B3%BC%EC%A0%9C_(2020_06_09).ipynb\" target=\"_parent\"><img src=\"https://colab.research.google.com/assets/colab-badge.svg\" alt=\"Open In Colab\"/></a>"
      ]
    },
    {
      "cell_type": "markdown",
      "metadata": {
        "id": "UTzLFghMaHj7",
        "colab_type": "text"
      },
      "source": [
        "# 인공지능 사관학교 1주차 과제\n",
        "\n",
        "### 인공지능 제품을 찾아 분석해보기"
      ]
    },
    {
      "cell_type": "markdown",
      "metadata": {
        "id": "N-Ucn3d4cILy",
        "colab_type": "text"
      },
      "source": [
        "#### 1. Vuno(뷰노)의 코로나 판별 솔루션\n",
        "* 흉부 CT와 X-ray를 판독하여 코로나 감염 여부 확인\n",
        "* 검사 대상과 코로나 발병 시의 이미지를 대조하는 이미지 기반 인공지능 제품\n",
        "* NVIDIA GPU 기반\n",
        "\n",
        "#### 2. Samsung의 AI그랑데\n",
        "* 맞춤세탁, 코스연동, 습관기억 등의 기능을 제공\n",
        "* 습관기억을 통해 사용자의 패턴을 파악하여 맞춤세탁 및 코스 추천\n",
        "* 머신러닝을 기반으로 내용물의 최적 세탁을 찾는 것으로 추정\n",
        "\n",
        "#### 3. Google의 구글 홈 & 미니\n",
        "* 음성을 인식해 검색 또는 IOT로 연결된 다른 가전제품의 컨트롤을 수행\n",
        "* 사용자의 음성을 지정하여 저장하고 해당 사용자의 제어를 구분할 수 있음\n",
        "\n",
        "#### 4. 플리토의 번역 서비스\n",
        "* 인공지능, 집단지성, 1:1 전문 번역 서비스를 제공\n",
        "* 번역된 자료는 데이터가 되어 인공지능 학습에 기여"
      ]
    }
  ]
}